{
 "cells": [
  {
   "cell_type": "code",
   "execution_count": 1,
   "id": "3d34a92a-634c-41e6-a806-622ccbd0cda8",
   "metadata": {},
   "outputs": [
    {
     "name": "stdout",
     "output_type": "stream",
     "text": [
      "[[], [4], [5], [4, 5], [6], [4, 6], [5, 6], [4, 5, 6]]\n"
     ]
    }
   ],
   "source": [
    "class DistinctSubset:\n",
    "    def subset(nums):\n",
    "        result_set = [[]]\n",
    "        for num in nums:\n",
    "            temp_set = []\n",
    "            for lst in result_set:\n",
    "                temp_set.append(lst + [num])\n",
    "            result_set = result_set + temp_set\n",
    "        return result_set\n",
    "    \n",
    "print(DistinctSubset.subset([4,5,6]))    "
   ]
  },
  {
   "cell_type": "code",
   "execution_count": null,
   "id": "9a5ea67b-d4b3-45f5-852a-726a353baa21",
   "metadata": {},
   "outputs": [],
   "source": []
  }
 ],
 "metadata": {
  "kernelspec": {
   "display_name": "Python 3 (ipykernel)",
   "language": "python",
   "name": "python3"
  },
  "language_info": {
   "codemirror_mode": {
    "name": "ipython",
    "version": 3
   },
   "file_extension": ".py",
   "mimetype": "text/x-python",
   "name": "python",
   "nbconvert_exporter": "python",
   "pygments_lexer": "ipython3",
   "version": "3.7.10"
  }
 },
 "nbformat": 4,
 "nbformat_minor": 5
}
