{
 "cells": [
  {
   "cell_type": "code",
   "execution_count": 1,
   "id": "4da58b45-644d-4481-8315-d213b593b4a0",
   "metadata": {},
   "outputs": [],
   "source": [
    "import findspark\n",
    "findspark.init()"
   ]
  },
  {
   "cell_type": "code",
   "execution_count": 2,
   "id": "eaf89c11-def4-42e4-94db-198f75c99cb3",
   "metadata": {},
   "outputs": [
    {
     "name": "stderr",
     "output_type": "stream",
     "text": [
      "22/03/07 01:12:09 WARN Utils: Your hostname, ubuntu-virtual-machine resolves to a loopback address: 127.0.1.1; using 192.168.80.128 instead (on interface ens33)\n",
      "22/03/07 01:12:09 WARN Utils: Set SPARK_LOCAL_IP if you need to bind to another address\n",
      "22/03/07 01:12:10 WARN NativeCodeLoader: Unable to load native-hadoop library for your platform... using builtin-java classes where applicable\n",
      "Using Spark's default log4j profile: org/apache/spark/log4j-defaults.properties\n",
      "Setting default log level to \"WARN\".\n",
      "To adjust logging level use sc.setLogLevel(newLevel). For SparkR, use setLogLevel(newLevel).\n",
      "22/03/07 01:12:11 WARN Utils: Service 'SparkUI' could not bind on port 4040. Attempting port 4041.\n",
      "22/03/07 01:12:11 WARN Utils: Service 'SparkUI' could not bind on port 4041. Attempting port 4042.\n",
      "22/03/07 01:12:11 WARN Utils: Service 'SparkUI' could not bind on port 4042. Attempting port 4043.\n"
     ]
    }
   ],
   "source": [
    "from pyspark.conf import SparkConf\n",
    "config = SparkConf()\n",
    "#config.set(\"property\", \"value\")\n",
    "config.setMaster(\"local\").setAppName(\"DataFrameBasic\")\n",
    "\n",
    "from pyspark.sql import SparkSession\n",
    "spark = SparkSession.builder\\\n",
    "                    .config(conf=config)\\\n",
    "                    .getOrCreate()\n",
    "sc=spark.sparkContext"
   ]
  },
  {
   "cell_type": "code",
   "execution_count": 3,
   "id": "4a3d108d-9283-49ba-a85f-1317cfcaf183",
   "metadata": {},
   "outputs": [],
   "source": [
    "from pyspark.sql.types import StructType, LongType, StringType, IntegerType, DoubleType\n",
    "ratingSchema = StructType()\\\n",
    "                .add(\"userId\", IntegerType(), True)\\\n",
    "                .add(\"movieId\", IntegerType(), True)\\\n",
    "                .add(\"rating\", DoubleType(), True)\\\n",
    "                .add(\"timestamp\", LongType(), True)\n"
   ]
  },
  {
   "cell_type": "code",
   "execution_count": 4,
   "id": "75a782ec-d1a2-4a33-b652-768f63531c84",
   "metadata": {},
   "outputs": [
    {
     "name": "stdout",
     "output_type": "stream",
     "text": [
      "root\n",
      " |-- userId: integer (nullable = true)\n",
      " |-- movieId: integer (nullable = true)\n",
      " |-- rating: double (nullable = true)\n",
      " |-- timestamp: long (nullable = true)\n",
      "\n",
      "+------+-------+------+---------+\n",
      "|userId|movieId|rating|timestamp|\n",
      "+------+-------+------+---------+\n",
      "|     1|      1|   4.0|964982703|\n",
      "|     1|      3|   4.0|964981247|\n",
      "+------+-------+------+---------+\n",
      "only showing top 2 rows\n",
      "\n"
     ]
    },
    {
     "name": "stderr",
     "output_type": "stream",
     "text": [
      "                                                                                \r"
     ]
    }
   ],
   "source": [
    "ratingDf = spark.read.format(\"csv\")\\\n",
    "                .option(\"header\",True)\\\n",
    "                .schema(ratingSchema)\\\n",
    "                .load(\"/home/ubuntu/Downloads/ml-latest-small/ratings.csv\")\n",
    "ratingDf.printSchema()\n",
    "ratingDf.show(2)"
   ]
  },
  {
   "cell_type": "code",
   "execution_count": 8,
   "id": "2c7e465c-bcd0-459e-bd97-86c0e508136e",
   "metadata": {},
   "outputs": [
    {
     "name": "stderr",
     "output_type": "stream",
     "text": [
      "[Stage 4:===========================================>           (158 + 1) / 200]"
     ]
    },
    {
     "name": "stdout",
     "output_type": "stream",
     "text": [
      "+-------+--------------+\n",
      "|movieId|Average_Rating|\n",
      "+-------+--------------+\n",
      "| 152711|           5.0|\n",
      "| 157775|           5.0|\n",
      "|   5513|           5.0|\n",
      "| 113829|           5.0|\n",
      "| 142444|           5.0|\n",
      "|    148|           5.0|\n",
      "|  67618|           5.0|\n",
      "|    496|           5.0|\n",
      "|   8911|           5.0|\n",
      "| 150554|           5.0|\n",
      "+-------+--------------+\n",
      "only showing top 10 rows\n",
      "\n"
     ]
    },
    {
     "name": "stderr",
     "output_type": "stream",
     "text": [
      "                                                                                \r"
     ]
    }
   ],
   "source": [
    "from pyspark.sql.functions import col, desc, avg, count\n",
    "AvgRatingsDf =ratingDf.groupby(\"movieId\").agg(avg(\"rating\").alias(\"Average_Rating\")).sort(desc(\"Average_Rating\"))\n",
    "                            \n",
    "AvgRatingsDf.show(10)"
   ]
  },
  {
   "cell_type": "code",
   "execution_count": null,
   "id": "f8ae06ec-f560-4d95-b400-b4113f6e82ea",
   "metadata": {},
   "outputs": [],
   "source": []
  }
 ],
 "metadata": {
  "kernelspec": {
   "display_name": "Python 3 (ipykernel)",
   "language": "python",
   "name": "python3"
  },
  "language_info": {
   "codemirror_mode": {
    "name": "ipython",
    "version": 3
   },
   "file_extension": ".py",
   "mimetype": "text/x-python",
   "name": "python",
   "nbconvert_exporter": "python",
   "pygments_lexer": "ipython3",
   "version": "3.7.12"
  }
 },
 "nbformat": 4,
 "nbformat_minor": 5
}
