{
 "cells": [
  {
   "cell_type": "code",
   "execution_count": 2,
   "id": "75187fb5-d762-4c08-9c8e-8868d5f1db62",
   "metadata": {},
   "outputs": [
    {
     "name": "stdout",
     "output_type": "stream",
     "text": [
      "True\n",
      "True\n",
      "False\n",
      "False\n",
      "False\n",
      "True\n",
      "False\n",
      "True\n",
      "False\n",
      "True\n"
     ]
    }
   ],
   "source": [
    "class ParantheseValidation:\n",
    "   def parentheseVal(self, inp):\n",
    "        ary = [] \n",
    "        tup = {\"(\": \")\", \"{\": \"}\", \"[\": \"]\"}\n",
    "        for parenthese in inp:\n",
    "            if parenthese in tup:\n",
    "                ary.append(parenthese)\n",
    "            elif tup[ary[-1]] == parenthese:\n",
    "                 ary.pop()\n",
    "            else:\n",
    "                 return False\n",
    "        return len(ary) == 0\n",
    "print(ParantheseValidation().parentheseVal(\"()\"))\n",
    "print(ParantheseValidation().parentheseVal(\"()[]{}\"))\n",
    "print(ParantheseValidation().parentheseVal(\"[)\"))\n",
    "print(ParantheseValidation().parentheseVal(\"({[)]\"))\n",
    "print(ParantheseValidation().parentheseVal(\"{{{\"))    \n",
    "    \n",
    "print(ParantheseValidation().parentheseVal(\"([{[{}[]]}])\"))\n",
    "print(ParantheseValidation().parentheseVal(\"()[{)}\"))\n",
    "print(ParantheseValidation().parentheseVal(\"()\"))\n",
    "print(ParantheseValidation().parentheseVal(\"{{{\"))\n",
    "print(ParantheseValidation().parentheseVal(\"[[()]]\"))\n"
   ]
  },
  {
   "cell_type": "code",
   "execution_count": null,
   "id": "111efbfa-9c6c-42ee-91f1-c963e43e62d0",
   "metadata": {},
   "outputs": [],
   "source": []
  }
 ],
 "metadata": {
  "kernelspec": {
   "display_name": "Python 3 (ipykernel)",
   "language": "python",
   "name": "python3"
  },
  "language_info": {
   "codemirror_mode": {
    "name": "ipython",
    "version": 3
   },
   "file_extension": ".py",
   "mimetype": "text/x-python",
   "name": "python",
   "nbconvert_exporter": "python",
   "pygments_lexer": "ipython3",
   "version": "3.7.10"
  }
 },
 "nbformat": 4,
 "nbformat_minor": 5
}
