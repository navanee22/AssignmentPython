{
 "cells": [
  {
   "cell_type": "code",
   "execution_count": 1,
   "id": "a9bf87b2-c0fb-424b-ad62-4375c629210c",
   "metadata": {},
   "outputs": [
    {
     "name": "stdout",
     "output_type": "stream",
     "text": [
      "['John', 'male', '1000', 'john@gmail.com']\n",
      "['ram', 'male', '1050', 'ram@gmail.com']\n",
      "['Johny', 'female', '4000', 'johny@gmail.com']\n",
      "['Ron', 'male', '5000', 'ron@gmail.com']\n",
      "['Joe', 'female', '10500', 'joe@gmail.com']\n"
     ]
    }
   ],
   "source": [
    "import csv\n",
    "import operator\n",
    "emp = open('employees.csv','r')\n",
    "csv1= csv.reader(emp,delimiter=',')\n",
    "sort = sorted(csv1, key=lambda x: int(x[2]))\n",
    "emp.close()\n",
    "for line in sort:\n",
    "    print(line)\n",
    "empWrite = open('employees-sorted.csv','w')\n",
    "csvWrite = csv.writer(empWrite,delimiter=',')\n",
    "for line in sort:\n",
    "    csvWrite.writerow(line)\n",
    "empWrite.close()"
   ]
  },
  {
   "cell_type": "code",
   "execution_count": null,
   "id": "93ed941e-7c42-4ba8-b133-d399e18bf122",
   "metadata": {},
   "outputs": [],
   "source": []
  }
 ],
 "metadata": {
  "kernelspec": {
   "display_name": "Python 3 (ipykernel)",
   "language": "python",
   "name": "python3"
  },
  "language_info": {
   "codemirror_mode": {
    "name": "ipython",
    "version": 3
   },
   "file_extension": ".py",
   "mimetype": "text/x-python",
   "name": "python",
   "nbconvert_exporter": "python",
   "pygments_lexer": "ipython3",
   "version": "3.7.10"
  }
 },
 "nbformat": 4,
 "nbformat_minor": 5
}
